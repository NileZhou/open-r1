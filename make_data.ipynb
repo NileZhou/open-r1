{
 "cells": [
  {
   "cell_type": "code",
   "execution_count": 1,
   "id": "76267274-5046-419d-b6b9-3cdf78478fd8",
   "metadata": {},
   "outputs": [
    {
     "name": "stderr",
     "output_type": "stream",
     "text": [
      "/data0/users/software/20240312_conda/miniconda/envs/zhouyi_internvl/lib/python3.9/site-packages/tqdm/auto.py:21: TqdmWarning: IProgress not found. Please update jupyter and ipywidgets. See https://ipywidgets.readthedocs.io/en/stable/user_install.html\n",
      "  from .autonotebook import tqdm as notebook_tqdm\n",
      "2025-02-16 23:17:02,541 - modelscope - WARNING - Use trust_remote_code=True. Will invoke codes from /njfs/train-nlp/zhouyi9/datasets/cache/bespokelabs___bespoke-stratos-17k/default-45716a10dbb21a2b/0.0.0/master. Please make sure that you can trust the external codes.\n",
      "2025-02-16 23:17:02,542 - modelscope - WARNING - Use trust_remote_code=True. Will invoke codes from /njfs/train-nlp/zhouyi9/datasets/cache/bespokelabs___bespoke-stratos-17k/default-45716a10dbb21a2b/0.0.0/master. Please make sure that you can trust the external codes.\n"
     ]
    },
    {
     "name": "stdout",
     "output_type": "stream",
     "text": [
      "16710\n"
     ]
    }
   ],
   "source": [
    "from modelscope.msdatasets import MsDataset\n",
    "ds =  MsDataset.load('/njfs/train-nlp/zhouyi9/datasets/cache/bespokelabs___bespoke-stratos-17k/default-45716a10dbb21a2b/0.0.0/master', subset_name='default')\n",
    "#您可按需配置 subset_name、split，参照“快速使用”示例代码\n",
    "print(len(ds))"
   ]
  },
  {
   "cell_type": "code",
   "execution_count": 2,
   "id": "e7cc02d1-c2a7-40b9-9139-25852c0cd51e",
   "metadata": {},
   "outputs": [
    {
     "data": {
      "text/plain": [
       "<modelscope.msdatasets.ms_dataset.MsDataset at 0x7f400ae56ac0>"
      ]
     },
     "execution_count": 2,
     "metadata": {},
     "output_type": "execute_result"
    }
   ],
   "source": [
    "ds"
   ]
  },
  {
   "cell_type": "code",
   "execution_count": 1,
   "id": "9c45dd54-6d55-442b-9d51-35a32f27968e",
   "metadata": {},
   "outputs": [
    {
     "name": "stderr",
     "output_type": "stream",
     "text": [
      "/data0/users/software/20240312_conda/miniconda/envs/openr1/lib/python3.11/site-packages/tqdm/auto.py:21: TqdmWarning: IProgress not found. Please update jupyter and ipywidgets. See https://ipywidgets.readthedocs.io/en/stable/user_install.html\n",
      "  from .autonotebook import tqdm as notebook_tqdm\n"
     ]
    }
   ],
   "source": [
    "from datasets import load_dataset"
   ]
  },
  {
   "cell_type": "code",
   "execution_count": 2,
   "id": "d1b9830c-f295-408d-8233-d2a904c00c7f",
   "metadata": {},
   "outputs": [
    {
     "name": "stderr",
     "output_type": "stream",
     "text": [
      "Using the latest cached version of the dataset since HuggingFaceH4/Bespoke-Stratos-17k couldn't be found on the Hugging Face Hub\n",
      "Found the latest cached dataset configuration 'default' at /root/.cache/huggingface/datasets/HuggingFaceH4___bespoke-stratos-17k/default/0.0.0/384140b6bba79a3f50697536c3b4192b86ddce1d (last modified on Mon Feb 17 01:10:06 2025).\n"
     ]
    }
   ],
   "source": [
    "ds = load_dataset('HuggingFaceH4/Bespoke-Stratos-17k')"
   ]
  },
  {
   "cell_type": "code",
   "execution_count": 3,
   "id": "edcc4833-e591-48d7-8e8d-9cc0516184be",
   "metadata": {},
   "outputs": [
    {
     "name": "stdout",
     "output_type": "stream",
     "text": [
      "DatasetDict({\n",
      "    train: Dataset({\n",
      "        features: ['system', 'conversations', 'messages'],\n",
      "        num_rows: 16610\n",
      "    })\n",
      "    test: Dataset({\n",
      "        features: ['system', 'conversations', 'messages'],\n",
      "        num_rows: 100\n",
      "    })\n",
      "})\n"
     ]
    }
   ],
   "source": [
    "print(ds)"
   ]
  },
  {
   "cell_type": "code",
   "execution_count": 4,
   "id": "9c02075e-231e-4c41-b336-9d9258bc95f2",
   "metadata": {},
   "outputs": [
    {
     "data": {
      "text/plain": [
       "\"Your role as an assistant involves thoroughly exploring questions through a systematic long thinking process before providing the final precise and accurate solutions. This requires engaging in a comprehensive cycle of analysis, summarizing, exploration, reassessment, reflection, backtracing, and iteration to develop well-considered thinking process. Please structure your response into two main sections: Thought and Solution. In the Thought section, detail your reasoning process using the specified format: <|begin_of_thought|> {thought with steps separated with '\\\\n\\\\n'} <|end_of_thought|> Each step should include detailed considerations such as analisying questions, summarizing relevant findings, brainstorming new ideas, verifying the accuracy of the current steps, refining any errors, and revisiting previous steps. In the Solution section, based on various attempts, explorations, and reflections from the Thought section, systematically present the final solution that you deem correct. The solution should remain a logical, accurate, concise expression style and detail necessary step needed to reach the conclusion, formatted as follows: <|begin_of_solution|> {final formatted, precise, and clear solution} <|end_of_solution|> Now, try to solve the following question through the above guidelines:\""
      ]
     },
     "execution_count": 4,
     "metadata": {},
     "output_type": "execute_result"
    }
   ],
   "source": [
    "ds['train']['system'][0]"
   ]
  },
  {
   "cell_type": "code",
   "execution_count": 6,
   "id": "d0e60ec4-7818-4f0d-ad14-9bac4542af28",
   "metadata": {},
   "outputs": [],
   "source": [
    "ret = ds['train']['conversations'][0]"
   ]
  },
  {
   "cell_type": "code",
   "execution_count": 8,
   "id": "913bae8c",
   "metadata": {},
   "outputs": [
    {
     "name": "stdout",
     "output_type": "stream",
     "text": [
      "<|begin_of_thought|>\n",
      "\n",
      "Okay, let's see. I need to find the mean score of all the students combined from both the morning and afternoon classes. Hmm, the problem gives me the means of each class and the ratio of the number of students. Let me jot down the details:\n",
      "\n",
      "- Morning class mean: 84\n",
      "- Afternoon class mean: 70\n",
      "- Ratio of students (Morning:Afternoon): 3:4\n",
      "\n",
      "So, I remember that the overall mean is calculated by the total sum of all scores divided by the total number of students. Right. So, if I can find the total sum from both classes and divide by the total number of students, that should give me the mean.\n",
      "\n",
      "But since I don't know the exact number of students, just the ratio, maybe I can use variables to represent them. Let's let the number of students in the morning class be 3k and the afternoon class be 4k, where k is some positive integer. That way, the ratio is maintained as 3:4. Good idea.\n",
      "\n",
      "Now, the total sum for the morning class would be the mean multiplied by the number of students. So, that's 84 * 3k. Similarly, the total sum for the afternoon class is 70 * 4k. Let me calculate those:\n",
      "\n",
      "Morning total = 84 * 3k = 252k\n",
      "\n",
      "Afternoon total = 70 * 4k = 280k\n",
      "\n",
      "So, combined total score is 252k + 280k = 532k\n",
      "\n",
      "Total number of students is 3k + 4k = 7k\n",
      "\n",
      "Therefore, the overall mean is total score divided by total students: 532k / 7k\n",
      "\n",
      "Wait, the k cancels out here. So, 532 / 7. Let me compute that.\n",
      "\n",
      "Dividing 532 by 7. Let's see, 7*70=490. 532 - 490 = 42. Then 42/7=6. So total is 70 + 6 = 76. So, 76 is the mean.\n",
      "\n",
      "Looking back at the options, choice C is 76. So, that's the answer. Let me just verify once again to make sure I didn't make any calculation mistakes.\n",
      "\n",
      "Mean of morning: 84, students 3k. Total morning: 84*3k=252k. Correct.\n",
      "\n",
      "Mean of afternoon:70, students 4k. Total afternoon:70*4k=280k. Correct.\n",
      "\n",
      "Total combined: 252k + 280k = 532k. Total students:7k. 532k /7k = 76. Yep, that's right. The ratio was 3:4, so using 3k and 4k works because k cancels. So regardless of the actual number of students, as long as the ratio is 3:4, the mean will be 76. That makes sense.\n",
      "\n",
      "So, the answer is C) 76.\n",
      "\n",
      "**Final Answer**\n",
      "\\boxed{C}\n",
      "\n",
      "<|end_of_thought|>\n",
      "\n",
      "<|begin_of_solution|>\n",
      "\n",
      "To find the mean of the scores of all the students combined from both the morning and afternoon classes, we start by noting the given information:\n",
      "\n",
      "- The mean score of the morning class is 84.\n",
      "- The mean score of the afternoon class is 70.\n",
      "- The ratio of the number of students in the morning class to the afternoon class is \\( \\frac{3}{4} \\).\n",
      "\n",
      "We represent the number of students in the morning class as \\( 3k \\) and the number of students in the afternoon class as \\( 4k \\), where \\( k \\) is a positive integer. \n",
      "\n",
      "Next, we calculate the total sum of scores for each class:\n",
      "- Total sum for the morning class: \\( 84 \\times 3k = 252k \\)\n",
      "- Total sum for the afternoon class: \\( 70 \\times 4k = 280k \\)\n",
      "\n",
      "The combined total score of all students is:\n",
      "\\[ 252k + 280k = 532k \\]\n",
      "\n",
      "The total number of students is:\n",
      "\\[ 3k + 4k = 7k \\]\n",
      "\n",
      "The mean of the scores of all the students is then calculated by dividing the total score by the total number of students:\n",
      "\\[ \\frac{532k}{7k} = \\frac{532}{7} = 76 \\]\n",
      "\n",
      "Thus, the mean of the scores of all the students is \\(\\boxed{C}\\).\n",
      "\n",
      "<|end_of_solution|>\n"
     ]
    }
   ],
   "source": [
    "print(ret[1]['value'])"
   ]
  },
  {
   "cell_type": "code",
   "execution_count": 11,
   "id": "5b24a122-d58c-463c-977a-e0a9dc9542c2",
   "metadata": {},
   "outputs": [
    {
     "data": {
      "text/plain": [
       "[{'content': \"Return your final response within \\\\boxed{}. Ms. Blackwell gives an exam to two classes. The mean of the scores of the students in the morning class is $84$, and the afternoon class's mean score is $70$. The ratio of the number of students in the morning class to the number of students in the afternoon class is $\\\\frac{3}{4}$. What is the mean of the scores of all the students?\\n$\\\\textbf{(A)} ~74 \\\\qquad\\\\textbf{(B)} ~75 \\\\qquad\\\\textbf{(C)} ~76 \\\\qquad\\\\textbf{(D)} ~77 \\\\qquad\\\\textbf{(E)} ~78$\",\n",
       "  'role': 'user'},\n",
       " {'content': \"<|begin_of_thought|>\\n\\nOkay, let's see. I need to find the mean score of all the students combined from both the morning and afternoon classes. Hmm, the problem gives me the means of each class and the ratio of the number of students. Let me jot down the details:\\n\\n- Morning class mean: 84\\n- Afternoon class mean: 70\\n- Ratio of students (Morning:Afternoon): 3:4\\n\\nSo, I remember that the overall mean is calculated by the total sum of all scores divided by the total number of students. Right. So, if I can find the total sum from both classes and divide by the total number of students, that should give me the mean.\\n\\nBut since I don't know the exact number of students, just the ratio, maybe I can use variables to represent them. Let's let the number of students in the morning class be 3k and the afternoon class be 4k, where k is some positive integer. That way, the ratio is maintained as 3:4. Good idea.\\n\\nNow, the total sum for the morning class would be the mean multiplied by the number of students. So, that's 84 * 3k. Similarly, the total sum for the afternoon class is 70 * 4k. Let me calculate those:\\n\\nMorning total = 84 * 3k = 252k\\n\\nAfternoon total = 70 * 4k = 280k\\n\\nSo, combined total score is 252k + 280k = 532k\\n\\nTotal number of students is 3k + 4k = 7k\\n\\nTherefore, the overall mean is total score divided by total students: 532k / 7k\\n\\nWait, the k cancels out here. So, 532 / 7. Let me compute that.\\n\\nDividing 532 by 7. Let's see, 7*70=490. 532 - 490 = 42. Then 42/7=6. So total is 70 + 6 = 76. So, 76 is the mean.\\n\\nLooking back at the options, choice C is 76. So, that's the answer. Let me just verify once again to make sure I didn't make any calculation mistakes.\\n\\nMean of morning: 84, students 3k. Total morning: 84*3k=252k. Correct.\\n\\nMean of afternoon:70, students 4k. Total afternoon:70*4k=280k. Correct.\\n\\nTotal combined: 252k + 280k = 532k. Total students:7k. 532k /7k = 76. Yep, that's right. The ratio was 3:4, so using 3k and 4k works because k cancels. So regardless of the actual number of students, as long as the ratio is 3:4, the mean will be 76. That makes sense.\\n\\nSo, the answer is C) 76.\\n\\n**Final Answer**\\n\\\\boxed{C}\\n\\n<|end_of_thought|>\\n\\n<|begin_of_solution|>\\n\\nTo find the mean of the scores of all the students combined from both the morning and afternoon classes, we start by noting the given information:\\n\\n- The mean score of the morning class is 84.\\n- The mean score of the afternoon class is 70.\\n- The ratio of the number of students in the morning class to the afternoon class is \\\\( \\\\frac{3}{4} \\\\).\\n\\nWe represent the number of students in the morning class as \\\\( 3k \\\\) and the number of students in the afternoon class as \\\\( 4k \\\\), where \\\\( k \\\\) is a positive integer. \\n\\nNext, we calculate the total sum of scores for each class:\\n- Total sum for the morning class: \\\\( 84 \\\\times 3k = 252k \\\\)\\n- Total sum for the afternoon class: \\\\( 70 \\\\times 4k = 280k \\\\)\\n\\nThe combined total score of all students is:\\n\\\\[ 252k + 280k = 532k \\\\]\\n\\nThe total number of students is:\\n\\\\[ 3k + 4k = 7k \\\\]\\n\\nThe mean of the scores of all the students is then calculated by dividing the total score by the total number of students:\\n\\\\[ \\\\frac{532k}{7k} = \\\\frac{532}{7} = 76 \\\\]\\n\\nThus, the mean of the scores of all the students is \\\\(\\\\boxed{C}\\\\).\\n\\n<|end_of_solution|>\",\n",
       "  'role': 'assistant'}]"
      ]
     },
     "execution_count": 11,
     "metadata": {},
     "output_type": "execute_result"
    }
   ],
   "source": [
    "ds['train']['messages'][0]"
   ]
  },
  {
   "cell_type": "code",
   "execution_count": null,
   "id": "935491bc-b539-478a-a41a-707758758f8d",
   "metadata": {},
   "outputs": [],
   "source": []
  }
 ],
 "metadata": {
  "kernelspec": {
   "display_name": "openr1",
   "language": "python",
   "name": "python3"
  },
  "language_info": {
   "codemirror_mode": {
    "name": "ipython",
    "version": 3
   },
   "file_extension": ".py",
   "mimetype": "text/x-python",
   "name": "python",
   "nbconvert_exporter": "python",
   "pygments_lexer": "ipython3",
   "version": "3.11.11"
  }
 },
 "nbformat": 4,
 "nbformat_minor": 5
}
